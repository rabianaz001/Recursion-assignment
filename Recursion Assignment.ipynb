{
 "cells": [
  {
   "cell_type": "markdown",
   "metadata": {},
   "source": [
    "Q.2 Given two strings word1 and word2, return the minimum number of operations required to convert word1 to word2."
   ]
  },
  {
   "cell_type": "code",
   "execution_count": 1,
   "metadata": {},
   "outputs": [
    {
     "name": "stdout",
     "output_type": "stream",
     "text": [
      "3\n"
     ]
    }
   ],
   "source": [
    "def minDistance(word1, word2):\n",
    "    m, n = len(word1), len(word2)\n",
    "    \n",
    "    # Initialize a 2D array to store the minimum number of operations\n",
    "    dp = [[0] * (n + 1) for _ in range(m + 1)]\n",
    "    \n",
    "    # Fill in the base cases\n",
    "    for i in range(m + 1):\n",
    "        dp[i][0] = i\n",
    "    for j in range(n + 1):\n",
    "        dp[0][j] = j\n",
    "    \n",
    "    # Fill in the rest of the array\n",
    "    for i in range(1, m + 1):\n",
    "        for j in range(1, n + 1):\n",
    "            # If the characters are equal, no operation needed\n",
    "            if word1[i - 1] == word2[j - 1]:\n",
    "                dp[i][j] = dp[i - 1][j - 1]\n",
    "            else:\n",
    "                # Minimum of insertion, deletion, and replacement operations\n",
    "                dp[i][j] = 1 + min(dp[i - 1][j],      # Deletion\n",
    "                                   dp[i][j - 1],      # Insertion\n",
    "                                   dp[i - 1][j - 1])  # Replacement\n",
    "    \n",
    "    return dp[m][n]\n",
    "\n",
    "# Example usage\n",
    "word1 = \"horse\"\n",
    "word2 = \"ros\"\n",
    "result = minDistance(word1, word2)\n",
    "print(result)\n"
   ]
  },
  {
   "cell_type": "code",
   "execution_count": 2,
   "metadata": {},
   "outputs": [
    {
     "name": "stdout",
     "output_type": "stream",
     "text": [
      "5\n"
     ]
    }
   ],
   "source": [
    "def minDistance(word1, word2):\n",
    "    m, n = len(word1), len(word2)\n",
    "    \n",
    "    # Initialize a 2D array to store the minimum number of operations\n",
    "    dp = [[0] * (n + 1) for _ in range(m + 1)]\n",
    "    \n",
    "    # Fill in the base cases\n",
    "    for i in range(m + 1):\n",
    "        dp[i][0] = i\n",
    "    for j in range(n + 1):\n",
    "        dp[0][j] = j\n",
    "    \n",
    "    # Fill in the rest of the array\n",
    "    for i in range(1, m + 1):\n",
    "        for j in range(1, n + 1):\n",
    "            # If the characters are equal, no operation needed\n",
    "            if word1[i - 1] == word2[j - 1]:\n",
    "                dp[i][j] = dp[i - 1][j - 1]\n",
    "            else:\n",
    "                # Minimum of insertion, deletion, and replacement operations\n",
    "                dp[i][j] = 1 + min(dp[i - 1][j],      # Deletion\n",
    "                                   dp[i][j - 1],      # Insertion\n",
    "                                   dp[i - 1][j - 1])  # Replacement\n",
    "    \n",
    "    return dp[m][n]\n",
    "\n",
    "# Example usage\n",
    "word1 = \"intention\"\n",
    "word2 = \"execution\"\n",
    "result = minDistance(word1, word2)\n",
    "print(result)\n"
   ]
  },
  {
   "cell_type": "markdown",
   "metadata": {},
   "source": [
    "Q. 3 Print the max value of the array [ 13, 1, -3, 22, 5]."
   ]
  },
  {
   "cell_type": "code",
   "execution_count": 3,
   "metadata": {},
   "outputs": [
    {
     "name": "stdout",
     "output_type": "stream",
     "text": [
      "The maximum value in the array is: 22\n"
     ]
    }
   ],
   "source": [
    "arr = [13, 1, -3, 22, 5]\n",
    "\n",
    "# Initialize max_value with the first element of the array\n",
    "max_value = arr[0]\n",
    "\n",
    "# Iterate through the array starting from the second element\n",
    "for num in arr[1:]:\n",
    "    # Compare each element with the current max_value\n",
    "    if num > max_value:\n",
    "        max_value = num\n",
    "\n",
    "print(\"The maximum value in the array is:\", max_value)\n"
   ]
  },
  {
   "cell_type": "markdown",
   "metadata": {},
   "source": [
    "Q.4 Find the sum of the values of the array [92, 23, 15, -20, 10]."
   ]
  },
  {
   "cell_type": "code",
   "execution_count": 4,
   "metadata": {},
   "outputs": [
    {
     "name": "stdout",
     "output_type": "stream",
     "text": [
      "The sum of the values in the array is: 120\n"
     ]
    }
   ],
   "source": [
    "arr = [92, 23, 15, -20, 10]\n",
    "\n",
    "# Initialize sum_value to 0\n",
    "sum_value = 0\n",
    "\n",
    "# Iterate through the array and accumulate the values\n",
    "for num in arr:\n",
    "    sum_value += num\n",
    "\n",
    "print(\"The sum of the values in the array is:\", sum_value)\n"
   ]
  },
  {
   "cell_type": "code",
   "execution_count": 13,
   "metadata": {},
   "outputs": [
    {
     "name": "stdout",
     "output_type": "stream",
     "text": [
      "Enter first number: 153\n",
      "Yes, it is an Armstrong number.\n"
     ]
    }
   ],
   "source": [
    "def is_armstrong_number(n):\n",
    "    # Count the number of digits in n\n",
    "    num_digits = len(str(n))\n",
    "    \n",
    "    # Initialize sum_value to 0\n",
    "    sum_value = 0\n",
    "    \n",
    "    # Temporary variable to store the original value of n\n",
    "    temp_n = n\n",
    "    \n",
    "    # Calculate the sum of each digit raised to the power of total digits\n",
    "    while n > 0:\n",
    "        digit = n % 10\n",
    "        sum_value += digit ** num_digits\n",
    "        n //= 10\n",
    "    \n",
    "    # Check if the sum is equal to the original number\n",
    "    return sum_value == temp_n\n",
    "\n",
    "# Example usage\n",
    "input_number = int(input(\"Enter first number: \"))\n",
    "result = is_armstrong_number(input_number)\n",
    "\n",
    "if result:\n",
    "    print(\"Yes, it is an Armstrong number.\")\n",
    "else:\n",
    "    print(\"No, it is not an Armstrong number.\")\n"
   ]
  },
  {
   "cell_type": "code",
   "execution_count": null,
   "metadata": {},
   "outputs": [],
   "source": []
  }
 ],
 "metadata": {
  "kernelspec": {
   "display_name": "Python 3",
   "language": "python",
   "name": "python3"
  },
  "language_info": {
   "codemirror_mode": {
    "name": "ipython",
    "version": 3
   },
   "file_extension": ".py",
   "mimetype": "text/x-python",
   "name": "python",
   "nbconvert_exporter": "python",
   "pygments_lexer": "ipython3",
   "version": "3.7.6"
  }
 },
 "nbformat": 4,
 "nbformat_minor": 4
}
